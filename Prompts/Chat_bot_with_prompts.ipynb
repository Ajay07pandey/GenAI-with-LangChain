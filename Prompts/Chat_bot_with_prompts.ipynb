{
 "cells": [
  {
   "cell_type": "markdown",
   "id": "0e644ee2",
   "metadata": {},
   "source": [
    "# Prompts"
   ]
  },
  {
   "cell_type": "markdown",
   "id": "e5780530",
   "metadata": {},
   "source": [
    "## Chat Prompt Template"
   ]
  },
  {
   "cell_type": "code",
   "execution_count": 20,
   "id": "0e0467da",
   "metadata": {},
   "outputs": [
    {
     "name": "stdout",
     "output_type": "stream",
     "text": [
      "System: You are a helpful cricket expert\n",
      "\n",
      "Human: Explain in simple terms, what is Dusra\n",
      "\n"
     ]
    }
   ],
   "source": [
    "from langchain_core.prompts import ChatPromptTemplate\n",
    "\n",
    "chat_template = ChatPromptTemplate([\n",
    "    ('system', 'You are a helpful {domain} expert\\n'),\n",
    "    ('human', 'Explain in simple terms, what is {topic}\\n')\n",
    "])\n",
    "\n",
    "prompt = chat_template.invoke({'domain': 'cricket', 'topic': 'Dusra'})\n",
    "\n",
    "print(prompt.to_string())"
   ]
  },
  {
   "cell_type": "markdown",
   "id": "aa79ae2f",
   "metadata": {},
   "source": [
    "## Message Ploceholder\n",
    "\n",
    "In LangChain, MessagePlaceholder is used when you want to insert a full message (or list of messages) dynamically into a prompt — typically as part of building multi-turn conversational agents or chains"
   ]
  },
  {
   "cell_type": "code",
   "execution_count": null,
   "id": "aa275103",
   "metadata": {},
   "outputs": [],
   "source": [
    "from langchain_core.prompts import ChatPromptTemplate, MessagesPlaceholder\n",
    "\n",
    "# chat template\n",
    "chat_template = ChatPromptTemplate([\n",
    "    ('system','You are a helpful customer support agent'),\n",
    "    MessagesPlaceholder(variable_name='chat_history'),\n",
    "    ('human','{query}')\n",
    "])\n",
    "\n",
    "chat_history = []\n",
    "# load chat history\n",
    "with open('chat_history.txt') as f:\n",
    "    chat_history.extend(f.readlines())\n",
    "\n",
    "print(chat_history)\n",
    "\n",
    "# create prompt\n",
    "prompt = chat_template.invoke({'chat_history':chat_history, 'query':'Where is my refund'})\n",
    "\n",
    "print(prompt)"
   ]
  },
  {
   "cell_type": "markdown",
   "id": "0c7b6565",
   "metadata": {},
   "source": [
    "Now we use SystemMessage, HumanMessage, AIMessage for clearity of putput"
   ]
  },
  {
   "cell_type": "markdown",
   "id": "4c35e7eb",
   "metadata": {},
   "source": [
    "## Chat bot"
   ]
  },
  {
   "cell_type": "code",
   "execution_count": 3,
   "id": "94bf8e55",
   "metadata": {},
   "outputs": [
    {
     "name": "stdout",
     "output_type": "stream",
     "text": [
      "AI:  Hi there! How can I help you today?\n",
      "AI:  The current Prime Minister of India is Narendra Modi.\n",
      "[SystemMessage(content='You are a helpful AI assistant', additional_kwargs={}, response_metadata={}), HumanMessage(content='Hi', additional_kwargs={}, response_metadata={}), AIMessage(content='Hi there! How can I help you today?', additional_kwargs={}, response_metadata={}), HumanMessage(content='Who is the prime minister of india', additional_kwargs={}, response_metadata={}), AIMessage(content='The current Prime Minister of India is Narendra Modi.', additional_kwargs={}, response_metadata={}), HumanMessage(content='exit', additional_kwargs={}, response_metadata={})]\n"
     ]
    }
   ],
   "source": [
    "from langchain_google_genai import ChatGoogleGenerativeAI\n",
    "from langchain_google_genai import GoogleGenerativeAI\n",
    "from langchain_core.messages import SystemMessage, HumanMessage, AIMessage\n",
    "from dotenv import load_dotenv\n",
    "\n",
    "load_dotenv()\n",
    "\n",
    "model = ChatGoogleGenerativeAI(model = 'gemini-1.5-flash')\n",
    "\n",
    "chat_history = [\n",
    "    SystemMessage(content='You are a helpful AI assistant')\n",
    "]\n",
    "\n",
    "while True:\n",
    "    user_input = input('You: ')\n",
    "    chat_history.append(HumanMessage(content=user_input))\n",
    "    if user_input == 'exit':\n",
    "        break\n",
    "    result = model.invoke(chat_history)\n",
    "    chat_history.append(AIMessage(content=result.content))\n",
    "    print(\"AI: \",result.content)\n",
    "\n",
    "print(chat_history)"
   ]
  }
 ],
 "metadata": {
  "kernelspec": {
   "display_name": "venv",
   "language": "python",
   "name": "python3"
  },
  "language_info": {
   "codemirror_mode": {
    "name": "ipython",
    "version": 3
   },
   "file_extension": ".py",
   "mimetype": "text/x-python",
   "name": "python",
   "nbconvert_exporter": "python",
   "pygments_lexer": "ipython3",
   "version": "3.13.2"
  }
 },
 "nbformat": 4,
 "nbformat_minor": 5
}
